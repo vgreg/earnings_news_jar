{
 "cells": [
  {
   "cell_type": "markdown",
   "metadata": {},
   "source": [
    "# Code for retrieving earnings and analyst revision news from RavenPack\n",
    "\n",
    "This shows how we have retrieved the analyst revisions news and the earnings announcements timestamps."
   ]
  },
  {
   "cell_type": "code",
   "execution_count": 1,
   "metadata": {},
   "outputs": [],
   "source": [
    "import pandas as pd\n",
    "from datetime import datetime, timedelta, time"
   ]
  },
  {
   "cell_type": "code",
   "execution_count": 3,
   "metadata": {},
   "outputs": [],
   "source": [
    "# keep the relevant columns\n",
    "dj_cols = ['TIMESTAMP_UTC', 'RPNA_DATE_UTC', 'RP_ENTITY_ID',\n",
    "           'ENTITY_NAME','RELEVANCE', 'NEWS_TYPE',\n",
    "           'GROUP', 'TYPE', 'SUB_TYPE', 'CATEGORY',\n",
    "           'SOURCE', 'RP_STORY_EVENT_INDEX',\n",
    "           'RP_STORY_ID', 'EVENT_SIMILARITY_KEY']\n",
    "\n",
    "# load the data -- here is an exmaple from loading the 2011 ravenpack file\n",
    "dj_equity = pd.read_csv('RPNA_DJEdition_2011_4.0-Equities.gz',\n",
    "                        usecols=dj_cols,\n",
    "                        encoding= \"ISO-8859-1\")\n",
    "\n",
    "# convert the timestamp UTC timezone to US/Eastern timezone\n",
    "dj_equity['TIMESTAMP_UTC'] = pd.to_datetime(dj_equity['TIMESTAMP_UTC'])\n",
    "dj_equity['TIMESTAMP'] = dj_equity.set_index(['TIMESTAMP_UTC']).index.tz_localize('UTC').tz_convert('US/Eastern')\n",
    "dj_equity = dj_equity[['TIMESTAMP', 'RPNA_DATE_UTC', 'RP_ENTITY_ID',\n",
    "                       'ENTITY_NAME', 'SOURCE', 'GROUP', 'SUB_TYPE',\n",
    "                       'CATEGORY', 'RELEVANCE', 'RP_STORY_ID',\n",
    "                       'EVENT_SIMILARITY_KEY']]\n",
    "\n",
    "# select all analyst revisions news\n",
    "analyst_ratings = dj_equity[dj_equity['CATEGORY'].isin(['analyst-ratings-change-negative',\n",
    "                                                        'analyst-ratings-change-positive',\n",
    "                                                        'analyst-ratings-change-neutral',\n",
    "                                                        'analyst-ratings-change-negative-rater',\n",
    "                                                        'analyst-ratings-change-positive-rater',\n",
    "                                                        'analyst-ratings-change-neutral-rater'])]\n",
    "# select earnings announcement news\n",
    "# Note: there can be multiple earnings news for one firm on its earnings announcement day.\n",
    "# Make sure to keep news that are after-hours and select the first news with relevance score == 100.\n",
    "earnings = dj_equity[(dj_equity['GROUP']=='earnings') &\n",
    "                     (dj_equity['CATEGORY'].isin(['earnings-per-share']))]"
   ]
  }
 ],
 "metadata": {
  "kernelspec": {
   "display_name": "Python 3",
   "language": "python",
   "name": "python3"
  },
  "language_info": {
   "codemirror_mode": {
    "name": "ipython",
    "version": 3
   },
   "file_extension": ".py",
   "mimetype": "text/x-python",
   "name": "python",
   "nbconvert_exporter": "python",
   "pygments_lexer": "ipython3",
   "version": "3.7.4"
  },
  "toc": {
   "base_numbering": 1,
   "nav_menu": {},
   "number_sections": true,
   "sideBar": true,
   "skip_h1_title": false,
   "title_cell": "Table of Contents",
   "title_sidebar": "Contents",
   "toc_cell": false,
   "toc_position": {},
   "toc_section_display": true,
   "toc_window_display": false
  }
 },
 "nbformat": 4,
 "nbformat_minor": 2
}
